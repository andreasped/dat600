{
 "cells": [
  {
   "cell_type": "markdown",
   "metadata": {},
   "source": [
    "# Task 1 counting the steps\n",
    "\n",
    "#### Number of steps equals lines of code (in the algorithm)\n",
    "\n",
    "Vary the size of the input and record\n",
    "the number of steps. \\\n",
    "Plot the number of steps as a function the input size (n)\n",
    "to confirm that the plotted functions match the asymptotic running time shown\n",
    "in the Table."
   ]
  },
  {
   "cell_type": "code",
   "execution_count": 4,
   "metadata": {},
   "outputs": [],
   "source": [
    "import matplotlib.pyplot as plt\n",
    "import random\n",
    "\n",
    "# Initialize arrays for sorting algorithms\n",
    "arr5 = [random.randint(0, 100) for i in range(5)]\n",
    "arr100 = [random.randint(0, 100) for i in range(100)]\n",
    "arr500 = [random.randint(0, 100) for i in range(500)]\n",
    "arr10000 = [random.randint(0, 100) for i in range(10000)]\n",
    "arr25000 = [random.randint(0, 100) for i in range(25000)]\n",
    "arrs = [arr5, arr100, arr500, arr10000, arr25000]"
   ]
  },
  {
   "cell_type": "markdown",
   "metadata": {},
   "source": [
    "## Insertion Sort"
   ]
  },
  {
   "cell_type": "code",
   "execution_count": 5,
   "metadata": {},
   "outputs": [],
   "source": [
    "def insertion_sort(arr):\n",
    "    n = len(arr)\n",
    "    num_steps = 0\n",
    "\n",
    "    # If the array has 0 or 1 element, it is already sorted, so return\n",
    "    if n <= 1:\n",
    "        return num_steps, n\n",
    "    \n",
    "    # Iterate over the array starting from the second element\n",
    "    for i in range(1, n):\n",
    "        num_steps += 2\n",
    "        # Store the current element as the key to be inserted in the right position\n",
    "        key = arr[i]\n",
    "        j = i-1\n",
    "        # Move elements greater than key one position ahead\n",
    "        while j >= 0 and key < arr[j]:\n",
    "            num_steps += 2\n",
    "            # Shift elements to the right\n",
    "            arr[j+1] = arr[j]\n",
    "            j -= 1\n",
    "        # Insert the key in the right position\n",
    "        num_steps += 1\n",
    "        arr[j+1] = key\n",
    "\n",
    "     # Return the number of steps and the length of the array\n",
    "    return num_steps, n\n"
   ]
  },
  {
   "cell_type": "code",
   "execution_count": null,
   "metadata": {},
   "outputs": [],
   "source": [
    "steps = []\n",
    "input_sizes = []\n",
    "actual_array = []\n",
    "\n",
    "for arr in arrs:\n",
    "    num_steps, n = insertion_sort(arr)\n",
    "    steps.append(num_steps)\n",
    "    input_sizes.append(n)\n",
    "    constant_factor = num_steps / n**2\n",
    "    actual = constant_factor * n**2\n",
    "    actual_array.append(actual)\n",
    "    print(f\"Array length: {n}, Number of steps: {num_steps}, Constant factor: {constant_factor}\")\n",
    "\n",
    "plt.plot(input_sizes, actual_array, label=\"C*n**2\", color='red')\n",
    "plt.plot(input_sizes, steps, label=\"Counted Steps\",color='blue', linestyle='--')\n",
    "plt.xlabel('Input size')\n",
    "plt.ylabel('Number of steps')\n",
    "plt.title('Insertion sort: Number of steps vs Input size')\n",
    "plt.legend()\n",
    "plt.grid(True)\n",
    "plt.show()\n"
   ]
  },
  {
   "cell_type": "markdown",
   "metadata": {},
   "source": [
    "## Merge Sort"
   ]
  },
  {
   "cell_type": "code",
   "execution_count": 8,
   "metadata": {},
   "outputs": [],
   "source": [
    "def merge_sort(arr):\n",
    "    n = len(arr)\n",
    "    num_steps = 0\n",
    "    \n",
    "    if n <= 1:\n",
    "        return num_steps, arr\n",
    "    \n",
    "    # Split the array in two\n",
    "    mid = n // 2\n",
    "    left = arr[:mid]\n",
    "    right = arr[mid:]\n",
    "\n",
    "    # Recursively sort the two halves\n",
    "    num_steps_left, left = merge_sort(left)\n",
    "    num_steps_right, right = merge_sort(right)\n",
    "    num_steps += num_steps_left + num_steps_right\n",
    "    \n",
    "    # Merge the two sorted halves\n",
    "    i = j = k = 0\n",
    "    while i < len(left) and j < len(right):\n",
    "        num_steps += 2\n",
    "        # Compare elements from left and right arrays and merge them in sorted order\n",
    "        if left[i] < right[j]:\n",
    "            arr[k] = left[i]\n",
    "            i += 1\n",
    "        else:\n",
    "            arr[k] = right[j]\n",
    "            j += 1\n",
    "        k += 1\n",
    "    \n",
    "    # Copy the remaining elements of the left array, if any\n",
    "    while i < len(left):\n",
    "        num_steps += 1\n",
    "        arr[k] = left[i]\n",
    "        i += 1\n",
    "        k += 1\n",
    "    \n",
    "    # Copy the remaining elements of the right array, if any\n",
    "    while j < len(right):\n",
    "        num_steps += 1\n",
    "        arr[k] = right[j]\n",
    "        j += 1\n",
    "        k += 1\n",
    "\n",
    "    # Return the number of steps and the sorted array\n",
    "    return num_steps, arr\n"
   ]
  },
  {
   "cell_type": "code",
   "execution_count": null,
   "metadata": {},
   "outputs": [],
   "source": []
  },
  {
   "cell_type": "markdown",
   "metadata": {},
   "source": [
    "## Heap Sort"
   ]
  },
  {
   "cell_type": "code",
   "execution_count": 11,
   "metadata": {},
   "outputs": [],
   "source": [
    "def heapify(arr, n, i):\n",
    "    num_steps = 0\n",
    "    largest = i\n",
    "    left = 2 * i + 1\n",
    "    right = 2 * i + 2\n",
    "\n",
    "    if left < n and arr[i] < arr[left]:\n",
    "        largest = left\n",
    "        num_steps += 1\n",
    "\n",
    "    if right < n and arr[largest] < arr[right]:\n",
    "        largest = right\n",
    "        num_steps += 1\n",
    "\n",
    "    if largest != i:\n",
    "        arr[i], arr[largest] = arr[largest], arr[i]\n",
    "        num_steps += heapify(arr, n, largest)\n",
    "\n",
    "    return num_steps\n",
    "\n",
    "def heapsort(arr):\n",
    "    n = len(arr)\n",
    "    num_steps = 0\n",
    "\n",
    "    # Build a max heap\n",
    "    for i in range(n//2 - 1, -1, -1):\n",
    "        num_steps += heapify(arr, n, i)\n",
    "\n",
    "    # Extract elements one by one\n",
    "    for i in range(n-1, 0, -1):\n",
    "        num_steps += 3\n",
    "        arr[i], arr[0] = arr[0], arr[i]\n",
    "        num_steps += heapify(arr, i, 0)\n",
    "\n",
    "    return num_steps, n"
   ]
  },
  {
   "cell_type": "code",
   "execution_count": 12,
   "metadata": {},
   "outputs": [
    {
     "name": "stdout",
     "output_type": "stream",
     "text": [
      "Array length: 5, Number of steps: 21, Constant factor: 1.808841543908251\n",
      "Array length: 10, Number of steps: 55, Constant factor: 1.6556649761518965\n",
      "Array length: 100, Number of steps: 1062, Constant factor: 1.59846927697574\n",
      "Array length: 500, Number of steps: 6934, Constant factor: 1.5467693131680864\n",
      "Array length: 1000, Number of steps: 15066, Constant factor: 1.5117726382245134\n",
      "Array length: 25000, Number of steps: 483558, Constant factor: 1.3239422307375863\n"
     ]
    },
    {
     "data": {
      "image/png": "[encoded data removed]",
      "text/plain": [
       "<Figure size 640x480 with 1 Axes>"
      ]
     },
     "metadata": {},
     "output_type": "display_data"
    }
   ],
   "source": [
    "import math \n",
    "steps = []\n",
    "input_sizes = []\n",
    "actual_array = []\n",
    "\n",
    "for arr in arrs:\n",
    "    num_steps, n = heapsort(arr)\n",
    "    steps.append(num_steps)\n",
    "    input_sizes.append(n)\n",
    "    constant_factor = num_steps / (n * math.log(n, 2))\n",
    "    actual = constant_factor * n * math.log(n, 2)\n",
    "    actual_array.append(actual)\n",
    "    print(f\"Array length: {n}, Number of steps: {num_steps}, Constant factor: {constant_factor}\")\n",
    "\n",
    "plt.plot(input_sizes, actual_array, label=\"C*n**2\", color='red')\n",
    "plt.plot(input_sizes, steps, label=\"Counted Steps\",color='blue', linestyle='--')\n",
    "plt.xlabel('Input size')\n",
    "plt.ylabel('Number of steps')\n",
    "plt.title('Insertion sort: Number of steps vs Input size')\n",
    "plt.legend()\n",
    "plt.grid(True)\n",
    "plt.show()"
   ]
  },
  {
   "cell_type": "markdown",
   "metadata": {},
   "source": [
    "## Quicksort"
   ]
  },
  {
   "cell_type": "code",
   "execution_count": null,
   "metadata": {},
   "outputs": [],
   "source": []
  }
 ],
 "metadata": {
  "kernelspec": {
   "display_name": "Python 3",
   "language": "python",
   "name": "python3"
  },
  "language_info": {
   "codemirror_mode": {
    "name": "ipython",
    "version": 3
   },
   "file_extension": ".py",
   "mimetype": "text/x-python",
   "name": "python",
   "nbconvert_exporter": "python",
   "pygments_lexer": "ipython3",
   "version": "3.12.2"
  }
 },
 "nbformat": 4,
 "nbformat_minor": 2
}
