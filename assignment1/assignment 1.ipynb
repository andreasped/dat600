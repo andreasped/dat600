{
 "cells": [
  {
   "cell_type": "markdown",
   "metadata": {},
   "source": [
    "# Task 1 counting the steps\n",
    "\n",
    "#### Number of steps equals lines of code (in the algorithm)\n",
    "\n",
    "Vary the size of the input and record\n",
    "the number of steps. \\\n",
    "Plot the number of steps as a function the input size (n)\n",
    "to confirm that the plotted functions match the asymptotic running time shown\n",
    "in the Table."
   ]
  },
  {
   "cell_type": "code",
   "execution_count": 1,
   "metadata": {},
   "outputs": [],
   "source": [
    "import matplotlib.pyplot as plt\n",
    "import random\n",
    "\n",
    "# Initialize arrays for sorting algorithms\n",
    "arr5 = [random.randint(0, 100) for i in range(5)]\n",
    "arr20 = [random.randint(0, 100) for i in range(10)]\n",
    "arr100 = [random.randint(0, 100) for i in range(100)]\n",
    "arr500 = [random.randint(0, 100) for i in range(500)]\n",
    "arr1000 = [random.randint(0, 100) for i in range(1000)]\n",
    "arrs = [arr5, arr20, arr100, arr500, arr1000]"
   ]
  },
  {
   "cell_type": "markdown",
   "metadata": {},
   "source": [
    "## Insertion Sort"
   ]
  },
  {
   "cell_type": "code",
   "execution_count": 2,
   "metadata": {},
   "outputs": [],
   "source": [
    "def insertion_sort(arr):\n",
    "    n = len(arr)\n",
    "    num_steps = 0\n",
    "\n",
    "    # If the array has 0 or 1 element, it is already sorted, so return\n",
    "    if n <= 1:\n",
    "        return num_steps, n\n",
    "    \n",
    "    # Iterate over the array starting from the second element\n",
    "    for i in range(1, n):\n",
    "        num_steps += 2\n",
    "        # Store the current element as the key to be inserted in the right position\n",
    "        key = arr[i]\n",
    "        j = i-1\n",
    "        # Move elements greater than key one position ahead\n",
    "        while j >= 0 and key < arr[j]:\n",
    "            num_steps += 2\n",
    "            # Shift elements to the right\n",
    "            arr[j+1] = arr[j]\n",
    "            j -= 1\n",
    "        # Insert the key in the right position\n",
    "        num_steps += 1\n",
    "        arr[j+1] = key\n",
    "\n",
    "     # Return the number of steps and the length of the array\n",
    "    return num_steps, n\n"
   ]
  },
  {
   "cell_type": "code",
   "execution_count": null,
   "metadata": {},
   "outputs": [],
   "source": [
    "steps = []\n",
    "input_sizes = []\n",
    "actual_array = []\n",
    "\n",
    "for arr in arrs:\n",
    "    num_steps, n = insertion_sort(arr)\n",
    "    steps.append(num_steps)\n",
    "    input_sizes.append(n)\n",
    "    constant_factor = num_steps / n**2\n",
    "    actual = constant_factor * n**2\n",
    "    actual_array.append(actual)\n",
    "    print(f\"Array length: {n}, Number of steps: {num_steps}, Constant factor: {constant_factor}\")\n",
    "\n",
    "plt.plot(input_sizes, actual_array, label=\"C*n**2\", color='red')\n",
    "plt.plot(input_sizes, steps, label=\"Counted Steps\",color='blue', linestyle='--')\n",
    "plt.xlabel('Input size')\n",
    "plt.ylabel('Number of steps')\n",
    "plt.title('Insertion sort: Number of steps vs Input size')\n",
    "plt.legend()\n",
    "plt.grid(True)\n",
    "plt.show()\n"
   ]
  },
  {
   "cell_type": "markdown",
   "metadata": {},
   "source": [
    "## Merge Sort"
   ]
  },
  {
   "cell_type": "code",
   "execution_count": 64,
   "metadata": {},
   "outputs": [],
   "source": []
  },
  {
   "cell_type": "markdown",
   "metadata": {},
   "source": [
    "## Heap Sort"
   ]
  },
  {
   "cell_type": "code",
   "execution_count": null,
   "metadata": {},
   "outputs": [],
   "source": []
  },
  {
   "cell_type": "markdown",
   "metadata": {},
   "source": [
    "## Quicksort"
   ]
  },
  {
   "cell_type": "code",
   "execution_count": null,
   "metadata": {},
   "outputs": [],
   "source": []
  }
 ],
 "metadata": {
  "kernelspec": {
   "display_name": "Python 3",
   "language": "python",
   "name": "python3"
  },
  "language_info": {
   "codemirror_mode": {
    "name": "ipython",
    "version": 3
   },
   "file_extension": ".py",
   "mimetype": "text/x-python",
   "name": "python",
   "nbconvert_exporter": "python",
   "pygments_lexer": "ipython3",
   "version": "3.12.2"
  }
 },
 "nbformat": 4,
 "nbformat_minor": 2
}
